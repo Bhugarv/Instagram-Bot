{
 "cells": [
  {
   "cell_type": "code",
   "execution_count": 1,
   "metadata": {},
   "outputs": [],
   "source": [
    "from time import sleep\n",
    "from selenium import webdriver\n",
    "from selenium.webdriver.common.keys import Keys\n",
    "from random import randint\n",
    "import pandas as pd"
   ]
  },
  {
   "cell_type": "code",
   "execution_count": 2,
   "metadata": {},
   "outputs": [],
   "source": [
    "chromedriver_path = r\"C:\\Users\\91987\\Desktop\\New Web diver/chromedriver.exe\"\n",
    "webdrivers= webdriver.Chrome(executable_path=chromedriver_path)\n",
    "sleep(2)\n",
    "webdrivers.get(\"https://www.instagram.com/accounts/login/\")\n",
    "sleep(10)"
   ]
  },
  {
   "cell_type": "code",
   "execution_count": 3,
   "metadata": {},
   "outputs": [],
   "source": [
    "usrname=webdrivers.find_element_by_css_selector('form input[name=\"username\"]')\n",
    "usrname.send_keys(\"alpha.pandey\")\n",
    "pswd=webdrivers.find_element_by_css_selector('form input[name=\"password\"]')\n",
    "pswd.send_keys(\"nkoplm090\")"
   ]
  },
  {
   "cell_type": "code",
   "execution_count": 4,
   "metadata": {},
   "outputs": [],
   "source": [
    "lgin = webdrivers.find_element_by_css_selector('form button[class=\"sqdOP  L3NKy   y3zKF     \"]')\n",
    "lgin.click()\n",
    "sleep(5)"
   ]
  },
  {
   "cell_type": "code",
   "execution_count": 57,
   "metadata": {},
   "outputs": [],
   "source": [
    "hashtag_lst =[\"rain\"]\n",
    "prev_follow=[]\n",
    "new_follow=[]   # to store list of newly followed people\n",
    "tag=-1          \n",
    "like=0        # to count how many posts we have liked.\n",
    "followed=0     # to count how many people we have followed.\n",
    "comment=0   # to count how many comments have been made."
   ]
  },
  {
   "cell_type": "code",
   "execution_count": 58,
   "metadata": {
    "collapsed": true
   },
   "outputs": [
    {
     "name": "stdout",
     "output_type": "stream",
     "text": [
      "User name of account to be followed is :  _magic0711_\n",
      "jjjjjjjjjjjjjjjjjjjjjjjj\n",
      "user not followed yet\n",
      "user followed\n",
      "user added in new list\n",
      "clicked on like button\n",
      "User name of account to be followed is :  nhodjin\n",
      "jjjjjjjjjjjjjjjjjjjjjjjj\n",
      "user not followed yet\n",
      "user followed\n",
      "user added in new list\n",
      "clicked on like button\n",
      "User name of account to be followed is :  dceubat\n",
      "jjjjjjjjjjjjjjjjjjjjjjjj\n",
      "user not followed yet\n",
      "user followed\n",
      "user added in new list\n",
      "clicked on like button\n",
      "User name of account to be followed is :  syriasorrowdj\n",
      "jjjjjjjjjjjjjjjjjjjjjjjj\n",
      "user not followed yet\n",
      "user followed\n",
      "user added in new list\n",
      "clicked on like button\n",
      "User name of account to be followed is :  juliane_browns\n",
      "jjjjjjjjjjjjjjjjjjjjjjjj\n",
      "user not followed yet\n",
      "user followed\n",
      "user added in new list\n",
      "clicked on like button\n",
      "User name of account to be followed is :  heartfloater\n",
      "jjjjjjjjjjjjjjjjjjjjjjjj\n",
      "user not followed yet\n",
      "user followed\n",
      "user added in new list\n",
      "clicked on like button\n",
      "User name of account to be followed is :  19iri81\n",
      "jjjjjjjjjjjjjjjjjjjjjjjj\n",
      "user not followed yet\n",
      "user followed\n",
      "user added in new list\n",
      "clicked on like button\n",
      "User name of account to be followed is :  aspenco\n",
      "jjjjjjjjjjjjjjjjjjjjjjjj\n",
      "user not followed yet\n",
      "user followed\n",
      "user added in new list\n",
      "clicked on like button\n",
      "User name of account to be followed is :  renebauschinger\n",
      "jjjjjjjjjjjjjjjjjjjjjjjj\n",
      "user not followed yet\n",
      "user followed\n",
      "user added in new list\n",
      "clicked on like button\n",
      "for else\n"
     ]
    }
   ],
   "source": [
    "for hashtag in hashtag_lst:\n",
    "    tag=+1\n",
    "    webdrivers.get(\"https://www.instagram.com/explore/tags/\"+ hashtag + \"/\")\n",
    "    sleep(5)\n",
    "    \n",
    "    first_thumbnail=webdrivers.find_element_by_xpath('//*[@id=\"react-root\"]/section/main/article/div[1]/div/div/div[1]/div[1]/a/div/div[2]')\n",
    "    first_thumbnail.click()\n",
    "    try:\n",
    "        for x in range(1,10):\n",
    "            sleep(2)\n",
    "            usrnm_f=webdrivers.find_element_by_xpath(\"/html/body/div[4]/div[2]/div/article/header/div[2]/div[1]/div[1]/span/a\").text\n",
    "            print(\"User name of account to be followed is : \",usrnm_f)\n",
    "            if (usrnm_f not in prev_follow):\n",
    "                print(\"user not in previous followed list\")\n",
    "                prev_follow.append(usrnm_f)\n",
    "                if webdrivers.find_element_by_xpath('/html/body/div[4]/div[2]/div/article/header/div[2]/div[1]/div[2]/button').text =='Follow':\n",
    "                    print(\"user not followed yet\")\n",
    "                    \n",
    "                    # follow that user                                 \n",
    "                    webdrivers.find_element_by_xpath(\"//*[contains(@class,'sqdOP yWX7d    y3zKF     ')]\").click()\n",
    "                    print(\"user followed\")\n",
    "                    #webdrivers.find_element_by_xpath('/html/body/div[4]/div[2]/div/article/header/div[2]/div[1]/div[2]/button').click()\n",
    "                    new_follow.append(usrnm_f)\n",
    "                    print(\"user added in new list\")\n",
    "                    followed =+1\n",
    "                    \n",
    "                    sleep(2)\n",
    "                    like_btn=webdrivers.find_elements_by_xpath(\"//*[contains(@class,'wpO6b ')]\")\n",
    "                    like_btn[1].click()\n",
    "                    print(\"clicked on like button\")\n",
    "                    \n",
    "                    sleep(randint(2,6))\n",
    "                    \n",
    "                    webdrivers.find_element_by_link_text(\"Next\").click()\n",
    "                    sleep(2)\n",
    "                else:\n",
    "                    webdrivers.find_element_by_link_text(\"Next\").click()\n",
    "                    sleep(3)\n",
    "            else:\n",
    "                webdrivers.find_element_by_link_text(\"Next\").click()\n",
    "                sleep(2)\n",
    "    except:\n",
    "        print(\"code not executed properly\")\n",
    "        continue"
   ]
  },
  {
   "cell_type": "markdown",
   "metadata": {},
   "source": [
    "# Unfollow"
   ]
  },
  {
   "cell_type": "code",
   "execution_count": 98,
   "metadata": {},
   "outputs": [],
   "source": [
    "unflw_pg=webdrivers.get(\"https://www.instagram.com/alpha.pandey/\")\n",
    "sleep(3)"
   ]
  },
  {
   "cell_type": "code",
   "execution_count": 99,
   "metadata": {},
   "outputs": [],
   "source": [
    "# checking user's own followers\n",
    "folwr_prompt=webdrivers.find_element_by_partial_link_text(' followers').click()\n",
    "sleep(2)"
   ]
  },
  {
   "cell_type": "code",
   "execution_count": 100,
   "metadata": {},
   "outputs": [],
   "source": [
    "follower_lst=[]\n",
    "follower_name=webdrivers.find_elements_by_xpath(\"//*[contains(@class,'FPmhX notranslate  _0imsa ')]\")\n",
    "for i in follower_name:\n",
    "    follower_lst.append(i.text)"
   ]
  },
  {
   "cell_type": "code",
   "execution_count": 101,
   "metadata": {},
   "outputs": [
    {
     "name": "stdout",
     "output_type": "stream",
     "text": [
      "follower list is as :  ['oberoysajan', 'kaushik_bhugarv', 'luxury_tennisimportados', 'prapaxenia', 'ydcboutique', 'tu_negocio_02', 'lematine_']\n"
     ]
    }
   ],
   "source": [
    "print(\"follower list is as : \",follower_lst)"
   ]
  },
  {
   "cell_type": "code",
   "execution_count": 102,
   "metadata": {},
   "outputs": [],
   "source": [
    "follower_close_btn=webdrivers.find_elements_by_xpath(\"//*[contains(@class,'wpO6b ')]\")\n",
    "follower_close_btn[1].click()"
   ]
  },
  {
   "cell_type": "code",
   "execution_count": 103,
   "metadata": {},
   "outputs": [],
   "source": [
    "following_prompt=webdrivers.find_element_by_partial_link_text(' following').click()\n",
    "sleep(2)"
   ]
  },
  {
   "cell_type": "code",
   "execution_count": 104,
   "metadata": {},
   "outputs": [
    {
     "name": "stdout",
     "output_type": "stream",
     "text": [
      "users we are following is as :  ['oberoysajan', 'kaushik_bhugarv', 'renebauschinger', 'aspenco', '19iri81', 'heartfloater', 'juliane_browns', 'syriasorrowdj', 'dceubat', 'nhodjin', '_magic0711_', 'eedera.gallery']\n"
     ]
    }
   ],
   "source": [
    "following_lst=[]\n",
    "following_name=webdrivers.find_elements_by_xpath(\"//*[contains(@class,'FPmhX notranslate  _0imsa ')]\")\n",
    "for i in following_name:\n",
    "    following_lst.append(i.text)\n",
    "print(\"users we are following is as : \",following_lst)"
   ]
  },
  {
   "cell_type": "code",
   "execution_count": 106,
   "metadata": {},
   "outputs": [],
   "source": [
    "following_btn=webdrivers.find_elements_by_xpath(\"//*[contains(@class,'sqdOP  L3NKy    _8A5w5    ')]\")   # this is following button\n",
    "for i in follower_lst:\n",
    "    if i in following_lst:\n",
    "        a = following_lst.index(i)\n",
    "        following[a].click()\n",
    "        sleep(2)\n",
    "        webdrivers.find_element_by_xpath(\"//*[contains(@class,'aOOlW -Cab_   ')]\").click()       #this is unfollow button"
   ]
  },
  {
   "cell_type": "code",
   "execution_count": null,
   "metadata": {},
   "outputs": [],
   "source": []
  }
 ],
 "metadata": {
  "kernelspec": {
   "display_name": "Python 3",
   "language": "python",
   "name": "python3"
  },
  "language_info": {
   "codemirror_mode": {
    "name": "ipython",
    "version": 3
   },
   "file_extension": ".py",
   "mimetype": "text/x-python",
   "name": "python",
   "nbconvert_exporter": "python",
   "pygments_lexer": "ipython3",
   "version": "3.7.6"
  }
 },
 "nbformat": 4,
 "nbformat_minor": 4
}
